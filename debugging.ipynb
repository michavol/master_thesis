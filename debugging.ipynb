{
 "cells": [
  {
   "cell_type": "code",
   "execution_count": 1,
   "metadata": {},
   "outputs": [],
   "source": [
    "from apdpa._data import get_data_loaders, create_combo_split, get_all_single_perturbation_idx"
   ]
  },
  {
   "cell_type": "code",
   "execution_count": 2,
   "metadata": {},
   "outputs": [],
   "source": [
    "# Import data\n",
    "import numpy as np\n",
    "import pandas as pd\n",
    "import scanpy as sc\n",
    "\n",
    "adata = sc.read_h5ad(\"data/proteomics/data/preprocessed_small.h5ad\") #730 × 5519"
   ]
  },
  {
   "cell_type": "code",
   "execution_count": 3,
   "metadata": {},
   "outputs": [
    {
     "data": {
      "text/plain": [
       "type\n",
       "singleDrug         175\n",
       "drugCombination    108\n",
       "noDrug              65\n",
       "Name: count, dtype: int64"
      ]
     },
     "execution_count": 3,
     "metadata": {},
     "output_type": "execute_result"
    }
   ],
   "source": [
    "adata[adata.obs[\"protein_plate\"] == \"MCF7\"].obs[\"type\"].value_counts()"
   ]
  },
  {
   "cell_type": "code",
   "execution_count": 4,
   "metadata": {},
   "outputs": [],
   "source": [
    "naming_config = {\n",
    "    \"type_col\": \"type\",                       # Column in adata.obs storing the sample type.\n",
    "    \"single_type\": \"singleDrug\",      # Value for single perturbation samples.\n",
    "    \"no_type\": \"noDrug\",              # Value for no perturbation samples.\n",
    "    \"combo_type\": \"drugCombination\",        # Value for combination samples.\n",
    "    \"perturbation_a_col\": \"anchor_drug\",     # Column for the first perturbation in a combo.\n",
    "    \"perturbation_b_col\": \"library_drug\",     # Column for the second perturbation in a combo.\n",
    "    \"condition_col\": \"protein_plate\",             # Column representing the condition (cell line/protein plate).\n",
    "    # If you wish to force certain conditions to a specific split (e.g. protein plates),\n",
    "    # set group_col equal to condition_col. Otherwise, leave as None.\n",
    "    \"group_col\": None,                        \n",
    "    \"strength_col\": \"perturbation_strength\",  # Column with the perturbation strength.\n",
    "    \"strength_a_col\": \"anchor_dose\",   # Strength for perturbation A (used for single samples and combo A).\n",
    "    \"strength_b_col\": \"library_dose\",   # Strength for perturbation B (used only for combos).\n",
    "}\n"
   ]
  },
  {
   "cell_type": "code",
   "execution_count": 5,
   "metadata": {},
   "outputs": [
    {
     "name": "stdout",
     "output_type": "stream",
     "text": [
      "Train and val overlap: 0\n",
      "Train and test overlap: 0\n",
      "Val and test overlap: 0\n"
     ]
    }
   ],
   "source": [
    "\n",
    "# 1. CHECK COMBO SPLIT\n",
    "\n",
    "# Get data loaders\n",
    "train_combo_idxs, val_combo_idxs, test_combo_idxs = create_combo_split(adata, \n",
    "                                                                           config=naming_config,\n",
    "                                                                           test_frac=0.2,\n",
    "                                                                           val_frac=0.1,\n",
    "                                                                           random_state=42)\n",
    "\n",
    "train_drugs = adata.obs[[\"anchor_drug\",\"library_drug\"]].iloc[train_combo_idxs]\n",
    "train_drugs[\"combo_id\"] = (\n",
    "        train_drugs[\"anchor_drug\"].astype(str) +\n",
    "        \"+\" +\n",
    "        train_drugs[\"library_drug\"].astype(str)\n",
    "    )\n",
    "drug_combos = train_drugs[\"combo_id\"].unique()\n",
    "\n",
    "val_drugs = adata.obs[[\"anchor_drug\",\"library_drug\"]].iloc[val_combo_idxs]\n",
    "val_drugs[\"combo_id\"] = (\n",
    "        val_drugs[\"anchor_drug\"].astype(str) +\n",
    "        \"+\" +\n",
    "        val_drugs[\"library_drug\"].astype(str)\n",
    "    )\n",
    "drug_combos = val_drugs[\"combo_id\"].unique()\n",
    "\n",
    "test_drugs = adata.obs[[\"anchor_drug\",\"library_drug\"]].iloc[test_combo_idxs]\n",
    "test_drugs[\"combo_id\"] = (\n",
    "        test_drugs[\"anchor_drug\"].astype(str) +\n",
    "        \"+\" +\n",
    "        test_drugs[\"library_drug\"].astype(str)\n",
    "    )\n",
    "drug_combos = test_drugs[\"combo_id\"].unique()\n",
    "\n",
    "# Check for overlap between splits\n",
    "train_drugs = set(train_drugs[\"combo_id\"].unique())\n",
    "val_drugs = set(val_drugs[\"combo_id\"].unique())\n",
    "test_drugs = set(test_drugs[\"combo_id\"].unique())\n",
    "\n",
    "print(\"Train and val overlap:\", len(train_drugs.intersection(val_drugs)))\n",
    "print(\"Train and test overlap:\", len(train_drugs.intersection(test_drugs)))\n",
    "print(\"Val and test overlap:\", len(val_drugs.intersection(test_drugs)))"
   ]
  },
  {
   "cell_type": "code",
   "execution_count": 6,
   "metadata": {},
   "outputs": [
    {
     "data": {
      "text/plain": [
       "type\n",
       "singleDrug         360\n",
       "drugCombination      0\n",
       "noDrug               0\n",
       "Name: count, dtype: int64"
      ]
     },
     "execution_count": 6,
     "metadata": {},
     "output_type": "execute_result"
    }
   ],
   "source": [
    "# 2. CHECK SINGLE SPLIT\n",
    "\n",
    "train_single_idxs = get_all_single_perturbation_idx(adata, config=naming_config)\n",
    "adata.obs[\"type\"].iloc[train_single_idxs].value_counts()"
   ]
  },
  {
   "cell_type": "code",
   "execution_count": 7,
   "metadata": {},
   "outputs": [],
   "source": [
    "# 3. CHECK DATA LOADERS\n",
    "\n",
    "train_loader_single,train_loader_combo,_,_ = get_data_loaders(\n",
    "    adata,\n",
    "    naming_config,\n",
    "    batch_size_combo=32,\n",
    "    batch_size_single=32\n",
    ")"
   ]
  },
  {
   "cell_type": "code",
   "execution_count": 8,
   "metadata": {},
   "outputs": [],
   "source": [
    "iter_train_single = iter(train_loader_single)\n",
    "batch = next(iter_train_single)\n",
    "X_noPerturbation, X_single, perturbation_single, strength_single = batch[0], batch[1], batch[2], batch[3]"
   ]
  },
  {
   "cell_type": "code",
   "execution_count": 9,
   "metadata": {},
   "outputs": [],
   "source": [
    "iter_train_combo = iter(train_loader_combo)\n",
    "batch = next(iter_train_combo)"
   ]
  },
  {
   "cell_type": "code",
   "execution_count": 10,
   "metadata": {},
   "outputs": [],
   "source": [
    "(X_combo, strength_combo_a, strength_combo_b,\n",
    "X_a, strength_single_a, perturbation_a,\n",
    "X_b, strength_single_b, perturbation_b,\n",
    "X_no1, X_no2, cond) = next(iter_train_combo)"
   ]
  }
 ],
 "metadata": {
  "kernelspec": {
   "display_name": ".venv",
   "language": "python",
   "name": "python3"
  },
  "language_info": {
   "codemirror_mode": {
    "name": "ipython",
    "version": 3
   },
   "file_extension": ".py",
   "mimetype": "text/x-python",
   "name": "python",
   "nbconvert_exporter": "python",
   "pygments_lexer": "ipython3",
   "version": "3.10.12"
  }
 },
 "nbformat": 4,
 "nbformat_minor": 2
}
